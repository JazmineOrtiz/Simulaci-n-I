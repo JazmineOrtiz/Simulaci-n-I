{
  "nbformat": 4,
  "nbformat_minor": 0,
  "metadata": {
    "colab": {
      "provenance": [],
      "include_colab_link": true
    },
    "kernelspec": {
      "name": "python3",
      "display_name": "Python 3"
    },
    "language_info": {
      "name": "python"
    }
  },
  "cells": [
    {
      "cell_type": "markdown",
      "metadata": {
        "id": "view-in-github",
        "colab_type": "text"
      },
      "source": [
        "<a href=\"https://colab.research.google.com/github/JazmineOrtiz/Simulaci-n-I/blob/main/MetododeCongruencia.ipynb\" target=\"_parent\"><img src=\"https://colab.research.google.com/assets/colab-badge.svg\" alt=\"Open In Colab\"/></a>"
      ]
    },
    {
      "cell_type": "code",
      "execution_count": 19,
      "metadata": {
        "id": "D_bz0kCcK5CO",
        "colab": {
          "base_uri": "https://localhost:8080/"
        },
        "outputId": "7431e7ff-a049-4915-fb2d-4881d27025ee"
      },
      "outputs": [
        {
          "output_type": "stream",
          "name": "stdout",
          "text": [
            "dame el valor de m: 16\n",
            "dame el valor de la semilla (xo): 6\n",
            "dame el valor de a: 5\n",
            "dame el valor de c: 5\n",
            "-  -  --  -  -----\n",
            "0  6  35  3  0.375\n",
            "-  -  --  -  -----\n",
            "-  -  --  -  ------\n",
            "1  3  20  4  0.1875\n",
            "-  -  --  -  ------\n",
            "-  -  --  -  ----\n",
            "2  4  25  9  0.25\n",
            "-  -  --  -  ----\n"
          ]
        }
      ],
      "source": [
        "from tabulate import tabulate\n",
        "m = float(input(\"dame el valor de m: \"))\n",
        "xo = float(input(\"dame el valor de la semilla (xo): \"))\n",
        "a = float(input(\"dame el valor de a: \"))\n",
        "c = float(input(\"dame el valor de c: \"))\n",
        "x=0\n",
        "for x in range(3):\n",
        "  #print(\"primera columna: \", xo)\n",
        "  xnn=(a*xo)+c\n",
        "  #print(\"segunda columna: \", xnn)\n",
        "  mod=xnn%m\n",
        "  #print(\"tercera columna: \", mod)\n",
        "  division=xo/m\n",
        "  #print(\"cuarta columna: \", division)\n",
        "  tabla=[[x,xo,xnn,mod,division]]\n",
        "  print(tabulate(tabla))\n",
        "  xo=mod"
      ]
    }
  ]
}