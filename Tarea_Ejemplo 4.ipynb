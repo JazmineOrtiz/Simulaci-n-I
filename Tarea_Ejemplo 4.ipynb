{
  "cells": [
    {
      "cell_type": "markdown",
      "id": "c21e5530",
      "metadata": {
        "id": "c21e5530"
      },
      "source": [
        "# Ejemplo: Flecha y cojinete"
      ]
    },
    {
      "cell_type": "markdown",
      "id": "61f9bd36",
      "metadata": {
        "id": "61f9bd36"
      },
      "source": [
        "Una flecha será embonada en un cojinete como se muestra a continuación\n",
        "\n",
        "<img src=\"https://github.com/Medetl/Simulacion/blob/main/Unidad%20II/cojinete.png?raw=1\">"
      ]
    },
    {
      "cell_type": "markdown",
      "id": "5f658ca1",
      "metadata": {
        "id": "5f658ca1"
      },
      "source": [
        "Si $x_1$ sigue una distribución normal con media $1.5$ y varianza $0.0016$, y $x_2$ esta misma distribución con media $1.48$ y varianza $0.0009$, determine:\n",
        "\n",
        "a) La probabilidad de que haya interferencia.\n",
        "\n",
        "b) El número de veces que es necesario simular el experimento, si se quiere que la probabilidad de interferencia estimada difiera de su valor verdadero en menos de $0.01$, con un nivel de seguridad del $95\\%.$"
      ]
    },
    {
      "cell_type": "markdown",
      "id": "fac00420",
      "metadata": {
        "id": "fac00420"
      },
      "source": [
        "Vamos a resolver este problema, procurando seguir la metodología vista en el curso."
      ]
    },
    {
      "cell_type": "markdown",
      "id": "ccd32164",
      "metadata": {
        "id": "ccd32164"
      },
      "source": [
        "### 1. Identifique las variables\n",
        "\n",
        "Tenemos dos: $x_1$ y $x_2$."
      ]
    },
    {
      "cell_type": "markdown",
      "id": "ae8735e5",
      "metadata": {
        "id": "ae8735e5"
      },
      "source": [
        "### 2 y 3. Determine la distribución de probabilidad y modele las variables aleatorias\n",
        "\n",
        "En el planteamiento ya se especifica que $x_1 \\sim N(1.5, 0.04)$ y que $x_1 \\sim N(1.48, 0.03)$."
      ]
    },
    {
      "cell_type": "markdown",
      "id": "b1b57a13",
      "metadata": {
        "id": "b1b57a13"
      },
      "source": [
        "### 4. Defina el modelo del sistema y los objetivos de la simulación\n",
        "\n",
        "La diferencia $x_1 - x_2$ modela adecuadamente el sistema.\n",
        "\n",
        "Si $x_2 - x_1 > 0$ el diametro de la flecha es más grande que el espacio en el cojinte y, por tanto, hay interferencia. De lo contrario, las piezas embonan sin problema.\n",
        "\n",
        "Objetivo: determinar la frecuencia con que esto ocurre, lo cual nos da una esrimación de la probabilidad de interefrencia.\n",
        "\n",
        "Una forma de implementarlo es mediante el siguiente código."
      ]
    },
    {
      "cell_type": "code",
      "execution_count": null,
      "id": "191b1e9b",
      "metadata": {
        "id": "191b1e9b"
      },
      "outputs": [],
      "source": [
        "import numpy as np\n",
        "import random\n",
        "import matplotlib.pyplot as plt\n",
        "from scipy.stats import norm"
      ]
    },
    {
      "cell_type": "code",
      "execution_count": null,
      "id": "e64c27d2",
      "metadata": {
        "id": "e64c27d2"
      },
      "outputs": [],
      "source": [
        "def interferencia():                #Esta función devuelve el valor 1 si hay interferencia o 0 si no la hay.\n",
        "    interf=0\n",
        "    x_1 = random.gauss(1.50,0.04)    #La funcion gauss genera un número que sigue una distribucion normal con\n",
        "    x_2 = random.gauss(1.48,0.03)   # la media y la desvicion estandar especificados.\n",
        "    if 0.0 < x_2 - x_1:\n",
        "        interf += 1\n",
        "    return interf"
      ]
    },
    {
      "cell_type": "code",
      "execution_count": null,
      "id": "ebe51777",
      "metadata": {
        "id": "ebe51777"
      },
      "outputs": [],
      "source": [
        "interferencia()"
      ]
    },
    {
      "cell_type": "markdown",
      "id": "d6186dac",
      "metadata": {
        "id": "d6186dac"
      },
      "source": [
        "### 5. Diseñe el experimento\n",
        "\n",
        "Para estimar la probabilidad de interferencia, ejecutamos $n$ veces la función anterior y calculamos de manera acumulativa\n",
        "la probabilidad de interferencia."
      ]
    },
    {
      "cell_type": "code",
      "execution_count": null,
      "id": "f9a766a5",
      "metadata": {
        "id": "f9a766a5"
      },
      "outputs": [],
      "source": [
        "def prob_inter(n):\n",
        "    prob = []                       # Esta funcion devuelve esta lista \"prob\", con los valores de la probabilidad\n",
        "    inter = 0                       # estimada al contar las veces que hay interferencia y dividir entre las veces que\n",
        "    for i in range(n):              # se ha reptido la observacion mientras aumenta el numero de iteraciones.\n",
        "        inter += interferencia()\n",
        "        prob.append(inter/(i+1))\n",
        "    return prob"
      ]
    },
    {
      "cell_type": "code",
      "execution_count": null,
      "id": "8099a245",
      "metadata": {
        "id": "8099a245"
      },
      "outputs": [],
      "source": [
        "X = prob_inter(500)                # Asignamos valores a n y realizamos el experimento"
      ]
    },
    {
      "cell_type": "code",
      "execution_count": null,
      "id": "c5a5a3c2",
      "metadata": {
        "id": "c5a5a3c2"
      },
      "outputs": [],
      "source": [
        "plt.plot(X)                         # La gráfica muestra que la convergencia está garantizada con 500 iteraciones\n",
        "                                    # Sin embargo, diferentes ejecuciones darán resultados distintos"
      ]
    },
    {
      "cell_type": "code",
      "execution_count": null,
      "id": "4ac4c689",
      "metadata": {
        "id": "4ac4c689"
      },
      "outputs": [],
      "source": [
        "print(np.mean(X), np.std(X))"
      ]
    },
    {
      "cell_type": "markdown",
      "id": "34727279",
      "metadata": {
        "id": "34727279"
      },
      "source": [
        "### 6. Repita el experimento $n$ veces\n",
        "\n",
        "Una forma de hacerlo es mediante el siguiente codigo."
      ]
    },
    {
      "cell_type": "code",
      "execution_count": null,
      "id": "908f1884",
      "metadata": {
        "id": "908f1884"
      },
      "outputs": [],
      "source": [
        "def modelo(n):\n",
        "    lista=[]\n",
        "    for i in range(n):\n",
        "        s = prob_inter(500)\n",
        "        lista.append(np.mean(s))\n",
        "    return lista"
      ]
    },
    {
      "cell_type": "code",
      "execution_count": null,
      "id": "34868564",
      "metadata": {
        "id": "34868564"
      },
      "outputs": [],
      "source": [
        "Y=modelo(120)"
      ]
    },
    {
      "cell_type": "code",
      "execution_count": null,
      "id": "8a95845e",
      "metadata": {
        "id": "8a95845e"
      },
      "outputs": [],
      "source": [
        "plt.hist(Y)\n",
        "plt.show()"
      ]
    },
    {
      "cell_type": "code",
      "execution_count": null,
      "id": "e892a16c",
      "metadata": {
        "id": "e892a16c"
      },
      "outputs": [],
      "source": [
        "print(np.mean(Y), np.std(Y))"
      ]
    },
    {
      "cell_type": "markdown",
      "id": "e5dc2362",
      "metadata": {
        "id": "e5dc2362"
      },
      "source": [
        "### Paso 7. Hallamos el intervalo de confianza.\n",
        "\n",
        "$$\\bar{x}-z_{\\alpha/2} \\cdot \\frac{s}{\\sqrt{n}} < \\mu < \\bar{x}+z_{\\alpha/2}\\cdot \\frac{s}{\\sqrt{n}}$$"
      ]
    },
    {
      "cell_type": "code",
      "execution_count": null,
      "id": "23d0b48e",
      "metadata": {
        "id": "23d0b48e"
      },
      "outputs": [],
      "source": [
        "np.mean(Y)"
      ]
    },
    {
      "cell_type": "code",
      "execution_count": null,
      "id": "b29c74e6",
      "metadata": {
        "id": "b29c74e6"
      },
      "outputs": [],
      "source": [
        "np.mean(Y) - 1.96*np.std(Y)/np.sqrt(50), np.mean(Y) + 1.96*np.std(Y)/np.sqrt(50)"
      ]
    },
    {
      "cell_type": "code",
      "execution_count": null,
      "id": "3f2cecf1",
      "metadata": {
        "id": "3f2cecf1"
      },
      "outputs": [],
      "source": []
    },
    {
      "cell_type": "markdown",
      "id": "112c0954",
      "metadata": {
        "id": "112c0954"
      },
      "source": [
        "### Para determinar el número de simulaciones"
      ]
    },
    {
      "cell_type": "markdown",
      "id": "0a1a63e7",
      "metadata": {
        "id": "0a1a63e7"
      },
      "source": [
        "$$ N > \\Bigg( \\frac{2 \\sigma z_{\\alpha/2}}{\\epsilon} \\Bigg) ^2 $$"
      ]
    },
    {
      "cell_type": "code",
      "execution_count": null,
      "id": "1478d745",
      "metadata": {
        "id": "1478d745"
      },
      "outputs": [],
      "source": [
        "N = (2*np.std(X)*1.96/0.01)**2"
      ]
    },
    {
      "cell_type": "code",
      "execution_count": null,
      "id": "fa6ae0ce",
      "metadata": {
        "id": "fa6ae0ce"
      },
      "outputs": [],
      "source": [
        "print(N)"
      ]
    },
    {
      "cell_type": "markdown",
      "id": "a6d1c695",
      "metadata": {
        "id": "a6d1c695"
      },
      "source": [
        "### Podemos comparar con la sulución analítica del problema.\n",
        "\n",
        "Para ello usamos la teoría sobre la suma de variables con distribución normal."
      ]
    },
    {
      "cell_type": "code",
      "execution_count": null,
      "id": "7284bee0",
      "metadata": {
        "id": "7284bee0"
      },
      "outputs": [],
      "source": [
        "norm.cdf(-0.04, -0.02, 0.05)"
      ]
    },
    {
      "cell_type": "code",
      "execution_count": null,
      "id": "a1a842a2",
      "metadata": {
        "id": "a1a842a2"
      },
      "outputs": [],
      "source": [
        "norm.cdf(-0.04, -0.02, 0.05)-np.mean(Y)"
      ]
    },
    {
      "cell_type": "markdown",
      "source": [
        "Método analítico:\n",
        "\n",
        "a)\n",
        "\n",
        "Distribuciones:\n",
        "\n",
        "$\n",
        "x_1 \\sim N(1.5, 0.04)\n",
        "$\n",
        "\n",
        "$\n",
        "x_2 \\sim N(1.48, 0.03)\n",
        "$\n",
        "\n",
        "Distribución de la diferencia:\n",
        "$\n",
        "D = x_1 - x_2\n",
        "$\n",
        "\n",
        "Media:\n",
        "$\n",
        "\\mu_D = \\mu_{x_1} - \\mu_{x_2} = 1.5 - 1.48 = 0.02\n",
        "$\n",
        "\n",
        "Varianza:\n",
        "$\n",
        "\\sigma_D^2 = \\sigma_{x_1}^2 + \\sigma_{x_2}^2 = 0.0016 + 0.0009 = 0.0025\n",
        "$\n",
        "\n",
        "Desviación estándar:\n",
        "$\n",
        "\\sigma_D = \\sqrt{0.0025} = 0.05\n",
        "$\n",
        "\n",
        "Buscamos:\n",
        "$\n",
        "P(D > 0)\n",
        "$\n",
        "\n",
        "$\n",
        "P(D > 0) = P \\left( z > \\frac{0 - 0.02}{0.05} \\right) = P(z > -0.4)\n",
        "$\n",
        "\n",
        "$\n",
        "P(z > -0.4) = 1 - P(z \\leq -0.4)\n",
        "$\n",
        "\n",
        "$\n",
        "P(z \\leq -0.4) \\approx 0.3446\n",
        "$\n",
        "\n",
        "$\n",
        "P(D > 0) = 1 - 0.3446 = 0.6554\n",
        "$\n",
        "\n",
        "\n",
        "b)\n",
        "\n",
        "$\n",
        "E = z \\sqrt{\\frac{p(1 - p)}{n}}\n",
        "$\n",
        "\n",
        "$\n",
        "0.01 = 1.96 \\sqrt{\\frac{0.6554 \\cdot (1 - 0.6554)}{n}}\n",
        "$\n",
        "\n",
        "$\n",
        "0.01 = 1.96 \\sqrt{\\frac{0.6554 \\cdot 0.3446}{n}}\n",
        "$\n",
        "\n",
        "$\n",
        "0.01 = 1.96 \\sqrt{\\frac{0.2258}{n}}\n",
        "$\n",
        "\n",
        "$\n",
        "0.01 = 1.96 \\frac{0.4753}{\\sqrt{n}}\n",
        "$\n",
        "\n",
        "$\n",
        "\\sqrt{n} = \\frac{1.96 \\cdot 0.4753}{0.01}\n",
        "$\n",
        "\n",
        "$\n",
        "\\sqrt{n} = 93.0088\n",
        "$\n",
        "\n",
        "$\n",
        "n = 8640.64\n",
        "$\n"
      ],
      "metadata": {
        "id": "-7gAyd7UPNG0"
      },
      "id": "-7gAyd7UPNG0"
    }
  ],
  "metadata": {
    "kernelspec": {
      "display_name": "Python 3 (ipykernel)",
      "language": "python",
      "name": "python3"
    },
    "language_info": {
      "codemirror_mode": {
        "name": "ipython",
        "version": 3
      },
      "file_extension": ".py",
      "mimetype": "text/x-python",
      "name": "python",
      "nbconvert_exporter": "python",
      "pygments_lexer": "ipython3",
      "version": "3.7.3"
    },
    "colab": {
      "provenance": []
    }
  },
  "nbformat": 4,
  "nbformat_minor": 5
}