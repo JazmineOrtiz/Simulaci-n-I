{
  "nbformat": 4,
  "nbformat_minor": 0,
  "metadata": {
    "colab": {
      "provenance": [],
      "authorship_tag": "ABX9TyMlSsNrsSK93PPH4KZQiYU/",
      "include_colab_link": true
    },
    "kernelspec": {
      "name": "python3",
      "display_name": "Python 3"
    },
    "language_info": {
      "name": "python"
    }
  },
  "cells": [
    {
      "cell_type": "markdown",
      "metadata": {
        "id": "view-in-github",
        "colab_type": "text"
      },
      "source": [
        "<a href=\"https://colab.research.google.com/github/JazmineOrtiz/Simulaci-n-I/blob/main/Producto_Madio_def.ipynb\" target=\"_parent\"><img src=\"https://colab.research.google.com/assets/colab-badge.svg\" alt=\"Open In Colab\"/></a>"
      ]
    },
    {
      "cell_type": "code",
      "execution_count": 4,
      "metadata": {
        "colab": {
          "base_uri": "https://localhost:8080/"
        },
        "id": "FZzyeZ4S8edy",
        "outputId": "fcfcceb3-ed97-4ac2-844d-f562f9db84de"
      },
      "outputs": [
        {
          "output_type": "stream",
          "name": "stdout",
          "text": [
            "Ingresa un número de 3 dígitos: 123\n",
            "Ingresa otro número de 3 dígitos: 123\n",
            "+-------------+----------------+-----------------+-------------+---------------+\n",
            "|   iteracion |   primer valor |   segundo valor |   producto  |   nuevo valor |\n",
            "+=============+================+=================+=============+===============+\n",
            "|           0 |            123 |             123 |       15129 |           512 |\n",
            "+-------------+----------------+-----------------+-------------+---------------+\n",
            "|           1 |            123 |             512 |       62976 |           297 |\n",
            "+-------------+----------------+-----------------+-------------+---------------+\n",
            "|           2 |            512 |             297 |      152064 |           520 |\n",
            "+-------------+----------------+-----------------+-------------+---------------+\n",
            "|           3 |            297 |             520 |      154440 |           544 |\n",
            "+-------------+----------------+-----------------+-------------+---------------+\n",
            "|           4 |            520 |             544 |      282880 |           828 |\n",
            "+-------------+----------------+-----------------+-------------+---------------+\n",
            "|           5 |            544 |             828 |      450432 |           504 |\n",
            "+-------------+----------------+-----------------+-------------+---------------+\n",
            "|           6 |            828 |             504 |      417312 |           173 |\n",
            "+-------------+----------------+-----------------+-------------+---------------+\n",
            "|           7 |            504 |             173 |       87192 |           719 |\n",
            "+-------------+----------------+-----------------+-------------+---------------+\n",
            "|           8 |            173 |             719 |      124387 |           243 |\n",
            "+-------------+----------------+-----------------+-------------+---------------+\n",
            "|           9 |            719 |             243 |      174717 |           747 |\n",
            "+-------------+----------------+-----------------+-------------+---------------+\n",
            "|          10 |            243 |             747 |      181521 |           815 |\n",
            "+-------------+----------------+-----------------+-------------+---------------+\n",
            "|          11 |            747 |             815 |      608805 |            88 |\n",
            "+-------------+----------------+-----------------+-------------+---------------+\n",
            "|          12 |            815 |              88 |       71720 |           172 |\n",
            "+-------------+----------------+-----------------+-------------+---------------+\n",
            "|          13 |             88 |             172 |       15136 |           513 |\n",
            "+-------------+----------------+-----------------+-------------+---------------+\n",
            "|          14 |            172 |             513 |       88236 |           823 |\n",
            "+-------------+----------------+-----------------+-------------+---------------+\n",
            "|          15 |            513 |             823 |      422199 |           221 |\n",
            "+-------------+----------------+-----------------+-------------+---------------+\n",
            "|          16 |            823 |             221 |      181883 |           818 |\n",
            "+-------------+----------------+-----------------+-------------+---------------+\n",
            "|          17 |            221 |             818 |      180778 |           807 |\n",
            "+-------------+----------------+-----------------+-------------+---------------+\n",
            "|          18 |            818 |             807 |      660126 |           601 |\n",
            "+-------------+----------------+-----------------+-------------+---------------+\n",
            "|          19 |            807 |             601 |      485007 |           850 |\n",
            "+-------------+----------------+-----------------+-------------+---------------+\n"
          ]
        }
      ],
      "source": [
        "#PRODUCTO MEDIO\n",
        "from tabulate import tabulate\n",
        "xo=int(input(\"Ingresa un número de 3 dígitos: \"))\n",
        "xn=int(input(\"Ingresa otro número de 3 dígitos: \"))\n",
        "lista_principal=[]\n",
        "#Ciclo for para operar ambos números\n",
        "for m in range(20):\n",
        "  producto_inicial= xo*xn;\n",
        "  #convierte el producto en una cadena\n",
        "  cadena=str(producto_inicial)\n",
        "  digitos=len(cadena)\n",
        "  #agraega un cero en caso de que no haya suficientes dígitos\n",
        "  if digitos==6:\n",
        "    cero=str(0);\n",
        "    cadena=cero+cadena;\n",
        "    xnn=[cadena[i]for i in range(2,5)];\n",
        "  #toma el cuadrado medio si hay suficientes dígitos\n",
        "  else:\n",
        "    xnn=[cadena[i]for i in range(1,4)];\n",
        "  #convierte la lista en una cadena, luego en un número\n",
        "  int_xnn=''.join(xnn)\n",
        "  entero=int(int_xnn)\n",
        "  #crea la tabla\n",
        "  lista_principal.append([m, xo, xn, producto_inicial, entero])\n",
        "  xo=xn\n",
        "  xn=entero\n",
        "  #para imprimir en formato de tabla\n",
        "headers = [\"iteracion\", \"primer valor\", \"segundo valor\", \"producto \",\"nuevo valor\"]\n",
        "print(tabulate(lista_principal, headers=headers, tablefmt=\"grid\"))"
      ]
    }
  ]
}