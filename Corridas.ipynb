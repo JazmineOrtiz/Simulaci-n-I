{
  "nbformat": 4,
  "nbformat_minor": 0,
  "metadata": {
    "colab": {
      "provenance": [],
      "authorship_tag": "ABX9TyMWe1P9va5bPAmVz/fiE8yL",
      "include_colab_link": true
    },
    "kernelspec": {
      "name": "python3",
      "display_name": "Python 3"
    },
    "language_info": {
      "name": "python"
    }
  },
  "cells": [
    {
      "cell_type": "markdown",
      "metadata": {
        "id": "view-in-github",
        "colab_type": "text"
      },
      "source": [
        "<a href=\"https://colab.research.google.com/github/JazmineOrtiz/Simulaci-n-I/blob/main/Corridas.ipynb\" target=\"_parent\"><img src=\"https://colab.research.google.com/assets/colab-badge.svg\" alt=\"Open In Colab\"/></a>"
      ]
    },
    {
      "cell_type": "code",
      "execution_count": 2,
      "metadata": {
        "colab": {
          "base_uri": "https://localhost:8080/"
        },
        "id": "OIQSQMEzxtZW",
        "outputId": "5aa956ef-abdf-4386-8e96-13111caf5718"
      },
      "outputs": [
        {
          "output_type": "stream",
          "name": "stdout",
          "text": [
            "   [0.48, 0.591, 0.478, 0.166, 0.932]\n",
            "   [0.926, 0.007, 0.551, 0.362, 0.533]\n",
            "X= [0.368, 0.437, 0.178, 0.411, 0.545]\n",
            "   [0.787, 0.594, 0.086, 0.951, 0.772]\n",
            "   [0.298, 0.199, 0.157, 0.401, 0.631]\n",
            "Numero total de datos:  25\n",
            "Ho: Los numeros son independientes\n",
            "Ha: Los numeros no son independientes\n",
            "\n",
            "S:  [1, 0, 0, 1, 0, 0, 1, 0, 1, 0, 1, 0, 1, 1, 1, 0, 0, 1, 0, 0, 0, 0, 1, 1]\n",
            "Número de corridas  15\n",
            "Intervalo de aceptación: [ -1.96 , 1.96 ]\n",
            "Estadistico: -0.32345013477088924\n",
            "Se acepta Ho: Los numeros de la muestra son independientes\n"
          ]
        }
      ],
      "source": [
        "import math\n",
        "import matplotlib\n",
        "import matplotlib.pyplot as plt\n",
        "import numpy as np\n",
        "x=[]\n",
        "x1=[0.48, 0.591, 0.478, 0.166, 0.932]\n",
        "print(\"  \", x1)\n",
        "x.extend(x1)\n",
        "x1=[0.926, 0.007, 0.551, 0.362, 0.533]\n",
        "x.extend(x1)\n",
        "print(\"  \", x1)\n",
        "x1=[0.368, 0.437, 0.178, 0.411, 0.545]\n",
        "print(\"X=\",x1)\n",
        "x.extend(x1)\n",
        "x1=[0.787, 0.594, 0.086, 0.951, 0.772]\n",
        "x.extend(x1)\n",
        "print(\"  \", x1)\n",
        "x1=[0.298, 0.199, 0.157, 0.401, 0.631]\n",
        "x.extend(x1)\n",
        "print(\"  \", x1)\n",
        "gl=0.95\n",
        "N=[]\n",
        "n=x[0]\n",
        "h=len(x)\n",
        "for i in x:\n",
        "  if i!=n:\n",
        "      if n<i:\n",
        "         N.append(1)\n",
        "      if n>i:\n",
        "         N.append(0)\n",
        "  n=i\n",
        "co=0\n",
        "k=9\n",
        "for i in N:\n",
        "  if k==i:\n",
        "      co+=0\n",
        "  if k!=i:\n",
        "      co+=1\n",
        "  k=i\n",
        "print(\"Numero total de datos: \", h)\n",
        "print(\"Ho: Los numeros son independientes\")\n",
        "print(\"Ha: Los numeros no son independientes\\n\")\n",
        "print(\"S: \", N)\n",
        "print(\"Número de corridas \", co)\n",
        "Mc=(2*h-1)/3\n",
        "var=(16*h-29)/90\n",
        "Zo=(co-Mc)/var\n",
        "za2=1.96\n",
        "liminf=-za2\n",
        "limsup=za2\n",
        "print(\"Intervalo de aceptación: [\", liminf, \",\", limsup, \"]\")\n",
        "print(\"Estadistico:\", Zo)\n",
        "\n",
        "if liminf<Zo and Zo<limsup:\n",
        "   print(\"Se acepta Ho: Los numeros de la muestra son independientes\")\n",
        "else:\n",
        "   print(\"Se rechaza Ho: Los numeros de la muestra no son independientes\")"
      ]
    },
    {
      "cell_type": "markdown",
      "source": [],
      "metadata": {
        "id": "P0a6OnP0x0Qt"
      }
    }
  ]
}