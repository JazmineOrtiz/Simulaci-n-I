{
  "cells": [
    {
      "cell_type": "markdown",
      "metadata": {
        "id": "view-in-github",
        "colab_type": "text"
      },
      "source": [
        "<a href=\"https://colab.research.google.com/github/JazmineOrtiz/Simulaci-n-I/blob/main/Chi2.ipynb\" target=\"_parent\"><img src=\"https://colab.research.google.com/assets/colab-badge.svg\" alt=\"Open In Colab\"/></a>"
      ]
    },
    {
      "cell_type": "code",
      "execution_count": 2,
      "metadata": {
        "colab": {
          "base_uri": "https://localhost:8080/"
        },
        "id": "KLTjXRaPqEzA",
        "outputId": "0a82fa7d-a970-4466-dcca-05827436d361"
      },
      "outputs": [
        {
          "output_type": "stream",
          "name": "stdout",
          "text": [
            "Tamaño de la lista= 50\n",
            "frecuencia esperada es: 10.0\n",
            "Ingresa el grado de aceptación:.95\n",
            "Valor critico:  9.487729036781154\n",
            "frecuencia observada (fo) del valor6\n",
            "frecuencia observada (fo) del valor12\n",
            "frecuencia observada (fo) del valor13\n",
            "frecuencia observada (fo) del valor7\n",
            "frecuencia observada (fo) del valor12\n",
            "+------------+-----+----------+------------+---------+\n",
            "|            |   x |   numero |   cuadrado |   medio |\n",
            "+============+=====+==========+============+=========+\n",
            "| [0-0.19]   |   6 |       10 |         -4 |     1.6 |\n",
            "+------------+-----+----------+------------+---------+\n",
            "| [0.2-0.39] |  12 |       10 |          2 |     0.4 |\n",
            "+------------+-----+----------+------------+---------+\n",
            "| [0.4-0.59] |  13 |       10 |          3 |     0.9 |\n",
            "+------------+-----+----------+------------+---------+\n",
            "| [0.6-0.79] |   7 |       10 |         -3 |     0.9 |\n",
            "+------------+-----+----------+------------+---------+\n",
            "| [0.8-0.99] |  12 |       10 |          2 |     0.4 |\n",
            "+------------+-----+----------+------------+---------+\n",
            "| total      |  50 |       50 |          0 |     4.2 |\n",
            "+------------+-----+----------+------------+---------+\n",
            "Distribución uniforme\n"
          ]
        }
      ],
      "source": [
        "from scipy.stats import chi2\n",
        "from tabulate import tabulate\n",
        "num_total=float(input(\"Tamaño de la lista= \"));\n",
        "#calcula la frecuencia esperada\n",
        "fe=num_total/5\n",
        "#los grados de libertad para este programa siempre seran 4\n",
        "grad_libertad=4\n",
        "print(\"frecuencia esperada es:\", fe) #segunda columna\n",
        "ga=float(input(\"Ingresa el grado de aceptación:\"))\n",
        "x=0;\n",
        "lista_principal=[]\n",
        "tfo=0\n",
        "tfe=num_total\n",
        "tres=0\n",
        "tdiv=0\n",
        "rangos = [\"[0-0.19]\", \"[0.2-0.39]\", \"[0.4-0.59]\", \"[0.6-0.79]\", \"[0.8-0.99]\"]\n",
        "#utiliza la bibleotec chi2 para encontrar valor critico\n",
        "valor_critico=chi2.ppf (ga,grad_libertad)\n",
        "print(\"Valor critico: \", valor_critico)\n",
        "for x in range (5):\n",
        "   fo=float(input(\"frecuencia observada (fo) del valor: \"));\n",
        "   #Operamos los valores\n",
        "   tfo += fo   #suma los valores de la frecuencia observada\n",
        "   resta = fo-fe;\n",
        "   tres +=resta\n",
        "   division=((resta)**2)/fe;\n",
        "   tdiv += division\n",
        "   lista_principal.append([rangos[x], fo, fe, resta, division])\n",
        "lista_principal.append([\"total\",tfo,tfe,tres,tdiv])\n",
        "headers = [\"x\", \"numero\", \"cuadrado\", \"medio\"]\n",
        "print(tabulate(lista_principal, headers=headers, tablefmt=\"grid\"))\n",
        "if tdiv<=valor_critico:\n",
        "  print(\"Distribución uniforme\")\n",
        "else:\n",
        "  print(\"Existe diferencia\")"
      ]
    }
  ],
  "metadata": {
    "colab": {
      "provenance": [],
      "include_colab_link": true
    },
    "kernelspec": {
      "display_name": "Python 3",
      "name": "python3"
    },
    "language_info": {
      "name": "python"
    }
  },
  "nbformat": 4,
  "nbformat_minor": 0
}