{
  "nbformat": 4,
  "nbformat_minor": 0,
  "metadata": {
    "colab": {
      "provenance": [],
      "include_colab_link": true
    },
    "kernelspec": {
      "name": "python3",
      "display_name": "Python 3"
    },
    "language_info": {
      "name": "python"
    }
  },
  "cells": [
    {
      "cell_type": "markdown",
      "metadata": {
        "id": "view-in-github",
        "colab_type": "text"
      },
      "source": [
        "<a href=\"https://colab.research.google.com/github/JazmineOrtiz/Simulaci-n-I/blob/main/Prod_medio.ipynb\" target=\"_parent\"><img src=\"https://colab.research.google.com/assets/colab-badge.svg\" alt=\"Open In Colab\"/></a>"
      ]
    },
    {
      "cell_type": "code",
      "execution_count": 20,
      "metadata": {
        "id": "PwaYk4fStjsr",
        "colab": {
          "base_uri": "https://localhost:8080/",
          "height": 315
        },
        "outputId": "49c7a5af-c8c4-45f8-fd1b-fcae593d5c8c"
      },
      "outputs": [
        {
          "output_type": "stream",
          "name": "stdout",
          "text": [
            "dame un número de 3 dígitos: 123\n",
            "dame el segundo número de 3 dígitos: 456\n",
            "0\n",
            "56088\n",
            "5\n",
            "['6', '0', '8']\n"
          ]
        },
        {
          "output_type": "error",
          "ename": "ValueError",
          "evalue": "invalid literal for int() with base 10: 'xnn'",
          "traceback": [
            "\u001b[0;31m---------------------------------------------------------------------------\u001b[0m",
            "\u001b[0;31mValueError\u001b[0m                                Traceback (most recent call last)",
            "\u001b[0;32m<ipython-input-20-0a1b4742f3da>\u001b[0m in \u001b[0;36m<cell line: 4>\u001b[0;34m()\u001b[0m\n\u001b[1;32m     18\u001b[0m   \u001b[0mprint\u001b[0m\u001b[0;34m(\u001b[0m\u001b[0mxnn\u001b[0m\u001b[0;34m)\u001b[0m\u001b[0;34m\u001b[0m\u001b[0;34m\u001b[0m\u001b[0m\n\u001b[1;32m     19\u001b[0m   \u001b[0;31m#print(\"Estos son los dígitos del cuadrado medio de manera seguida:\", ''.join(xnn))\u001b[0m\u001b[0;34m\u001b[0m\u001b[0;34m\u001b[0m\u001b[0m\n\u001b[0;32m---> 20\u001b[0;31m   \u001b[0mint_xnn\u001b[0m\u001b[0;34m=\u001b[0m\u001b[0mint\u001b[0m\u001b[0;34m(\u001b[0m\u001b[0;34m\"xnn\"\u001b[0m\u001b[0;34m)\u001b[0m\u001b[0;34m\u001b[0m\u001b[0;34m\u001b[0m\u001b[0m\n\u001b[0m\u001b[1;32m     21\u001b[0m   \u001b[0mprint\u001b[0m\u001b[0;34m(\u001b[0m\u001b[0mint_xnn\u001b[0m\u001b[0;34m)\u001b[0m\u001b[0;34m\u001b[0m\u001b[0;34m\u001b[0m\u001b[0m\n\u001b[1;32m     22\u001b[0m   \u001b[0;31m#v=int(xnn)\u001b[0m\u001b[0;34m\u001b[0m\u001b[0;34m\u001b[0m\u001b[0m\n",
            "\u001b[0;31mValueError\u001b[0m: invalid literal for int() with base 10: 'xnn'"
          ]
        }
      ],
      "source": [
        "#producto medio\n",
        "xo=int(input(\"dame un número de 3 dígitos: \"))\n",
        "xn=int(input(\"dame el segundo número de 3 dígitos: \"))\n",
        "for m in range(5):\n",
        "  print (m)\n",
        "  #m=m+1\n",
        "  producto_inicial= xo*xn;\n",
        "  print(producto_inicial)\n",
        "  cadena=str(producto_inicial)\n",
        "  digitos=len(cadena)\n",
        "  print(digitos)\n",
        "  if digitos==6:\n",
        "    cero=str[0];\n",
        "    cadena=cero+cadena;\n",
        "    xnn=[cadena[i]for i in range(2,4)];\n",
        "  else:\n",
        "    xnn=[cadena[i]for i in range(1,4)]\n",
        "  print(xnn)\n",
        "  #print(\"Estos son los dígitos del cuadrado medio de manera seguida:\", ''.join(xnn))\n",
        "  int_xnn=int(\"xnn\")\n",
        "  print(int_xnn)\n",
        "  #v=int(xnn)\n",
        "  xo=xn\n",
        "  xn=xnn"
      ]
    }
  ]
}