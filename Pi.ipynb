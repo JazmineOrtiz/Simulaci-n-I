{
  "nbformat": 4,
  "nbformat_minor": 0,
  "metadata": {
    "colab": {
      "provenance": [],
      "include_colab_link": true
    },
    "kernelspec": {
      "name": "python3",
      "display_name": "Python 3"
    },
    "language_info": {
      "name": "python"
    }
  },
  "cells": [
    {
      "cell_type": "markdown",
      "metadata": {
        "id": "view-in-github",
        "colab_type": "text"
      },
      "source": [
        "<a href=\"https://colab.research.google.com/github/JazmineOrtiz/Simulaci-n-I/blob/main/Pi.ipynb\" target=\"_parent\"><img src=\"https://colab.research.google.com/assets/colab-badge.svg\" alt=\"Open In Colab\"/></a>"
      ]
    },
    {
      "cell_type": "code",
      "execution_count": null,
      "metadata": {
        "id": "2qkubjg9redP"
      },
      "outputs": [],
      "source": [
        "import random as rnd\n",
        "import numpy as np\n",
        "import matplotlib.pyplot as plt"
      ]
    },
    {
      "cell_type": "markdown",
      "source": [
        "Estimación del número pi\\\n",
        "$A_o = \\text{Área del círculo} \\\\\n",
        "A_c = \\text{Área del cuadrado} \\\\\n",
        "n = \\text{número de puntos dentro del círculo} \\\\\n",
        "N = \\text{número de puntos en el cuadrado (total de puntos)} \\\\\n",
        "\\frac{A_o}{A_c} = \\frac{n}{N} \\quad \\text{(ec. 1)} \\\\\n",
        "\\text{La función del círculo:} \\\\\n",
        "y = \\sqrt{1 - x^2}, \\quad 0 \\leq x \\leq 1 \\\\\n",
        "\\text{Consideramos:} \\\\\n",
        "A_c = 1 \\\\\n",
        "A_o = \\frac{\\pi}{4} \\\\\n",
        "\\text{Sustituimos en la ec. (1)} \\\\\n",
        "\\frac{1}{\\pi/4} = \\frac{n}{N} \\\\\n",
        "\\text{Despejamos } \\pi \\\\\n",
        "\\text{el estimador es: }\\\\\n",
        "4\\frac{n}{N} = \\pi\\\\\n",
        "$\n",
        "$\\text{De esta manera encontramos el numero estimado de $\\pi$ }$\n",
        "\n"
      ],
      "metadata": {
        "id": "vv2aAPKF1L9e"
      }
    },
    {
      "cell_type": "code",
      "source": [
        "def circulo(N):\n",
        "  #x=np.linspace (0,1,1000)          #genera puntos para x\n",
        "  n = 0\n",
        "  contador = 0\n",
        "  lista = []\n",
        "  for i in range(N):\n",
        "    u1=rnd.random()\n",
        "    u2=rnd.random()\n",
        "   # plt.scatter(u1,u2,color='red')    #grafica los puntos aleatorios\n",
        "    if u2 <= np.sqrt(1-u1**2):         #si el numero aleatorio se encuentra dentro del circulo\n",
        "      contador += 1\n",
        "      n = n+ 1                         #cuenta cuantos numeros aleatorios estan dentro del circulo\n",
        "    prob = contador / (i + 1)          # calcula la probabilidad de que pase\n",
        "    lista.append(4*prob)               #agrega la probabilidad a la lista\n",
        "\n",
        "\n",
        "  pi= 4*(n/N)                          #calcula el numero pi c\n",
        "  # plt.plot(x,np.sqrt(1-x**2))        #muestra el grafico del circulo\n",
        "  # plt.show( )                        #muestra grafico completo\n",
        "\n",
        "  return lista,lista[-1]                     #devuelve la lista y el ultimo valor de la lista"
      ],
      "metadata": {
        "id": "ubDa5C5zskbG"
      },
      "execution_count": null,
      "outputs": []
    },
    {
      "cell_type": "code",
      "source": [
        "lista,listas= circulo(1000)                 #manda a llamar a la función\n",
        "media= np.mean(listas)                #calcula media\n",
        "des=np.std(listas)                    #calcula desviación"
      ],
      "metadata": {
        "id": "Q3pSehJyw_EE"
      },
      "execution_count": null,
      "outputs": []
    },
    {
      "cell_type": "code",
      "source": [
        "plt.plot(lista)                      #grafica la lista completa\n",
        "plt.axhline(des,color=\"red\")\n",
        "plt.axvline(media,color=\"green\")\n",
        "plt.show()"
      ],
      "metadata": {
        "id": "5U25wwWUnL6l",
        "outputId": "40815065-15af-4257-ecc6-70609ab630ab",
        "colab": {
          "base_uri": "https://localhost:8080/",
          "height": 430
        }
      },
      "execution_count": null,
      "outputs": [
        {
          "output_type": "display_data",
          "data": {
            "text/plain": [
              "<Figure size 640x480 with 1 Axes>"
            ],
            "image/png": "[encoded data removed]"
          },
          "metadata": {}
        }
      ]
    },
    {
      "cell_type": "markdown",
      "source": [
        "Para modificar la función y convertirla en una corrida de la simulación: lista-->lista[-1] y fijarnos N=500(por ejemplo)"
      ],
      "metadata": {
        "id": "ijJ1cC9aq35F"
      }
    },
    {
      "cell_type": "code",
      "source": [
        "def simulación (M):             # crea funcion para generar la simulacion del experimento\n",
        "   r=[]\n",
        "   for i in range(M):\n",
        "      R_1,R_2=circulo (500)\n",
        "      r.append(R_2)\n",
        "   return r"
      ],
      "metadata": {
        "id": "-tTORLqmpQIh"
      },
      "execution_count": null,
      "outputs": []
    },
    {
      "cell_type": "code",
      "source": [
        "S=simulación (1000) #generamos distribucion\n",
        "plt.hist(S)"
      ],
      "metadata": {
        "id": "bXTeCiMvpphD",
        "outputId": "4b8ee2b3-a794-4afc-b787-b0419e6725f6",
        "colab": {
          "base_uri": "https://localhost:8080/",
          "height": 499
        }
      },
      "execution_count": null,
      "outputs": [
        {
          "output_type": "execute_result",
          "data": {
            "text/plain": [
              "(array([  4.,   9.,  41., 102., 170., 266., 220., 122.,  55.,  11.]),\n",
              " array([2.88  , 2.9264, 2.9728, 3.0192, 3.0656, 3.112 , 3.1584, 3.2048,\n",
              "        3.2512, 3.2976, 3.344 ]),\n",
              " <BarContainer object of 10 artists>)"
            ]
          },
          "metadata": {},
          "execution_count": 18
        },
        {
          "output_type": "display_data",
          "data": {
            "text/plain": [
              "<Figure size 640x480 with 1 Axes>"
            ],
            "image/png": "[encoded data removed]"
          },
          "metadata": {}
        }
      ]
    }
  ]
}