{
  "nbformat": 4,
  "nbformat_minor": 0,
  "metadata": {
    "colab": {
      "provenance": [],
      "include_colab_link": true
    },
    "kernelspec": {
      "name": "python3",
      "display_name": "Python 3"
    },
    "language_info": {
      "name": "python"
    }
  },
  "cells": [
    {
      "cell_type": "markdown",
      "metadata": {
        "id": "view-in-github",
        "colab_type": "text"
      },
      "source": [
        "<a href=\"https://colab.research.google.com/github/JazmineOrtiz/Simulaci-n-I/blob/main/Cuadrado_M.ipynb\" target=\"_parent\"><img src=\"https://colab.research.google.com/assets/colab-badge.svg\" alt=\"Open In Colab\"/></a>"
      ]
    },
    {
      "cell_type": "code",
      "source": [
        "a=0\n",
        "y=int(input(\"ingresa un número de 4 dígitos: \"))\n",
        "for a in range(5):\n",
        "  m=y*y;\n",
        "  #print(\"tu número al cuadrado es: \", m);\n",
        "  x=str(m);\n",
        "  z=len(x);\n",
        "  print(z)\n",
        "  if z<8:\n",
        "    cero=str(0);\n",
        "    cadenat=cero+x;\n",
        "    print(cadenat);\n",
        "  else:\n",
        "    cadenat=x\n",
        "    print(cadenat);\n",
        "  lista=[cadenat[i] for i in range(2,6)]\n",
        "  #print=list\n",
        "  int_num=''.join(lista)\n",
        "  entero=int(int_num)\n",
        "  print(\"tu número ahora es: \",entero)\n",
        "  y=entero"
      ],
      "metadata": {
        "id": "Af1TAdlIyb69",
        "outputId": "be46c673-3afd-4a81-d863-468271964c95",
        "colab": {
          "base_uri": "https://localhost:8080/"
        }
      },
      "execution_count": null,
      "outputs": [
        {
          "output_type": "stream",
          "name": "stdout",
          "text": [
            "ingresa un número de 4 dígitos: 1234\n",
            "7\n",
            "01522756\n",
            "tu número ahora es:  5227\n",
            "8\n",
            "27321529\n",
            "tu número ahora es:  3215\n",
            "8\n",
            "10336225\n",
            "tu número ahora es:  3362\n",
            "8\n",
            "11303044\n",
            "tu número ahora es:  3030\n",
            "7\n",
            "09180900\n",
            "tu número ahora es:  1809\n"
          ]
        }
      ]
    }
  ]
}