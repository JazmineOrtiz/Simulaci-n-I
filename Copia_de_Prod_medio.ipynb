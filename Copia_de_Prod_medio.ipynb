{
  "nbformat": 4,
  "nbformat_minor": 0,
  "metadata": {
    "colab": {
      "provenance": [],
      "include_colab_link": true
    },
    "kernelspec": {
      "name": "python3",
      "display_name": "Python 3"
    },
    "language_info": {
      "name": "python"
    }
  },
  "cells": [
    {
      "cell_type": "markdown",
      "metadata": {
        "id": "view-in-github",
        "colab_type": "text"
      },
      "source": [
        "<a href=\"https://colab.research.google.com/github/JazmineOrtiz/Simulaci-n-I/blob/main/Copia_de_Prod_medio.ipynb\" target=\"_parent\"><img src=\"https://colab.research.google.com/assets/colab-badge.svg\" alt=\"Open In Colab\"/></a>"
      ]
    },
    {
      "cell_type": "code",
      "execution_count": 11,
      "metadata": {
        "id": "PwaYk4fStjsr",
        "colab": {
          "base_uri": "https://localhost:8080/",
          "height": 1000
        },
        "outputId": "04c63a8e-f00b-45ef-8b54-b9f94f44d4c3"
      },
      "outputs": [
        {
          "output_type": "stream",
          "name": "stdout",
          "text": [
            "dame un número de 3 dígitos: 999\n",
            "dame el segundo número de 3 dígitos: 111\n",
            "0\n",
            "tu producto es: 110889\n",
            "tiene digitos 6\n",
            "0110889\n",
            "['1', '0', '8']\n",
            "numero final:  108\n",
            "1\n",
            "tu producto es: 11988\n",
            "tiene digitos 5\n",
            "['1', '9', '8']\n",
            "numero final:  198\n",
            "2\n",
            "tu producto es: 21384\n",
            "tiene digitos 5\n",
            "['1', '3', '8']\n",
            "numero final:  138\n",
            "3\n",
            "tu producto es: 27324\n",
            "tiene digitos 5\n",
            "['7', '3', '2']\n",
            "numero final:  732\n",
            "4\n",
            "tu producto es: 101016\n",
            "tiene digitos 6\n",
            "0101016\n",
            "['0', '1', '0']\n",
            "numero final:  10\n",
            "5\n",
            "tu producto es: 7320\n",
            "tiene digitos 4\n",
            "['3', '2', '0']\n",
            "numero final:  320\n",
            "6\n",
            "tu producto es: 3200\n",
            "tiene digitos 4\n",
            "['2', '0', '0']\n",
            "numero final:  200\n",
            "7\n",
            "tu producto es: 64000\n",
            "tiene digitos 5\n",
            "['4', '0', '0']\n",
            "numero final:  400\n",
            "8\n",
            "tu producto es: 80000\n",
            "tiene digitos 5\n",
            "['0', '0', '0']\n",
            "numero final:  0\n",
            "9\n",
            "tu producto es: 0\n",
            "tiene digitos 1\n"
          ]
        },
        {
          "output_type": "error",
          "ename": "IndexError",
          "evalue": "string index out of range",
          "traceback": [
            "\u001b[0;31m---------------------------------------------------------------------------\u001b[0m",
            "\u001b[0;31mIndexError\u001b[0m                                Traceback (most recent call last)",
            "\u001b[0;32m<ipython-input-11-6e1821d0580c>\u001b[0m in \u001b[0;36m<cell line: 4>\u001b[0;34m()\u001b[0m\n\u001b[1;32m     17\u001b[0m     \u001b[0mxnn\u001b[0m\u001b[0;34m=\u001b[0m\u001b[0;34m[\u001b[0m\u001b[0mcadena\u001b[0m\u001b[0;34m[\u001b[0m\u001b[0mi\u001b[0m\u001b[0;34m]\u001b[0m\u001b[0;32mfor\u001b[0m \u001b[0mi\u001b[0m \u001b[0;32min\u001b[0m \u001b[0mrange\u001b[0m\u001b[0;34m(\u001b[0m\u001b[0;36m2\u001b[0m\u001b[0;34m,\u001b[0m\u001b[0;36m5\u001b[0m\u001b[0;34m)\u001b[0m\u001b[0;34m]\u001b[0m\u001b[0;34m;\u001b[0m\u001b[0;34m\u001b[0m\u001b[0;34m\u001b[0m\u001b[0m\n\u001b[1;32m     18\u001b[0m   \u001b[0;32melse\u001b[0m\u001b[0;34m:\u001b[0m\u001b[0;34m\u001b[0m\u001b[0;34m\u001b[0m\u001b[0m\n\u001b[0;32m---> 19\u001b[0;31m     \u001b[0mxnn\u001b[0m\u001b[0;34m=\u001b[0m\u001b[0;34m[\u001b[0m\u001b[0mcadena\u001b[0m\u001b[0;34m[\u001b[0m\u001b[0mi\u001b[0m\u001b[0;34m]\u001b[0m\u001b[0;32mfor\u001b[0m \u001b[0mi\u001b[0m \u001b[0;32min\u001b[0m \u001b[0mrange\u001b[0m\u001b[0;34m(\u001b[0m\u001b[0;36m1\u001b[0m\u001b[0;34m,\u001b[0m\u001b[0;36m4\u001b[0m\u001b[0;34m)\u001b[0m\u001b[0;34m]\u001b[0m\u001b[0;34m\u001b[0m\u001b[0;34m\u001b[0m\u001b[0m\n\u001b[0m\u001b[1;32m     20\u001b[0m   \u001b[0mprint\u001b[0m\u001b[0;34m(\u001b[0m\u001b[0mxnn\u001b[0m\u001b[0;34m)\u001b[0m\u001b[0;34m\u001b[0m\u001b[0;34m\u001b[0m\u001b[0m\n\u001b[1;32m     21\u001b[0m   \u001b[0;31m#print(\"Estos son los dígitos del cuadrado medio de manera seguida:\", ''.join(xnn))\u001b[0m\u001b[0;34m\u001b[0m\u001b[0;34m\u001b[0m\u001b[0m\n",
            "\u001b[0;32m<ipython-input-11-6e1821d0580c>\u001b[0m in \u001b[0;36m<listcomp>\u001b[0;34m(.0)\u001b[0m\n\u001b[1;32m     17\u001b[0m     \u001b[0mxnn\u001b[0m\u001b[0;34m=\u001b[0m\u001b[0;34m[\u001b[0m\u001b[0mcadena\u001b[0m\u001b[0;34m[\u001b[0m\u001b[0mi\u001b[0m\u001b[0;34m]\u001b[0m\u001b[0;32mfor\u001b[0m \u001b[0mi\u001b[0m \u001b[0;32min\u001b[0m \u001b[0mrange\u001b[0m\u001b[0;34m(\u001b[0m\u001b[0;36m2\u001b[0m\u001b[0;34m,\u001b[0m\u001b[0;36m5\u001b[0m\u001b[0;34m)\u001b[0m\u001b[0;34m]\u001b[0m\u001b[0;34m;\u001b[0m\u001b[0;34m\u001b[0m\u001b[0;34m\u001b[0m\u001b[0m\n\u001b[1;32m     18\u001b[0m   \u001b[0;32melse\u001b[0m\u001b[0;34m:\u001b[0m\u001b[0;34m\u001b[0m\u001b[0;34m\u001b[0m\u001b[0m\n\u001b[0;32m---> 19\u001b[0;31m     \u001b[0mxnn\u001b[0m\u001b[0;34m=\u001b[0m\u001b[0;34m[\u001b[0m\u001b[0mcadena\u001b[0m\u001b[0;34m[\u001b[0m\u001b[0mi\u001b[0m\u001b[0;34m]\u001b[0m\u001b[0;32mfor\u001b[0m \u001b[0mi\u001b[0m \u001b[0;32min\u001b[0m \u001b[0mrange\u001b[0m\u001b[0;34m(\u001b[0m\u001b[0;36m1\u001b[0m\u001b[0;34m,\u001b[0m\u001b[0;36m4\u001b[0m\u001b[0;34m)\u001b[0m\u001b[0;34m]\u001b[0m\u001b[0;34m\u001b[0m\u001b[0;34m\u001b[0m\u001b[0m\n\u001b[0m\u001b[1;32m     20\u001b[0m   \u001b[0mprint\u001b[0m\u001b[0;34m(\u001b[0m\u001b[0mxnn\u001b[0m\u001b[0;34m)\u001b[0m\u001b[0;34m\u001b[0m\u001b[0;34m\u001b[0m\u001b[0m\n\u001b[1;32m     21\u001b[0m   \u001b[0;31m#print(\"Estos son los dígitos del cuadrado medio de manera seguida:\", ''.join(xnn))\u001b[0m\u001b[0;34m\u001b[0m\u001b[0;34m\u001b[0m\u001b[0m\n",
            "\u001b[0;31mIndexError\u001b[0m: string index out of range"
          ]
        }
      ],
      "source": [
        "#producto medio\n",
        "xo=int(input(\"dame un número de 3 dígitos: \"))\n",
        "xn=int(input(\"dame el segundo número de 3 dígitos: \"))\n",
        "for m in range(50):\n",
        "  print (\"iteracion nunero: \", m)\n",
        "  #m=m+1\n",
        "  producto_inicial= xo*xn;\n",
        "  print(\"tu producto es:\",producto_inicial)\n",
        "  cadena=str(producto_inicial)\n",
        "  digitos=len(cadena)\n",
        "  print(\"tiene digitos\", digitos)\n",
        "  if digitos==6:\n",
        "    cero=str(0);\n",
        "    #print(cero)\n",
        "    cadena=cero+cadena;\n",
        "    print(cadena)\n",
        "    xnn=[cadena[i]for i in range(2,5)];\n",
        "  else:\n",
        "    xnn=[cadena[i]for i in range(1,4)]\n",
        "  print(xnn)\n",
        "  #print(\"Estos son los dígitos del cuadrado medio de manera seguida:\", ''.join(xnn))\n",
        "  int_xnn=''.join(xnn)\n",
        "  entero=int(int_xnn)\n",
        "  print(\"numero final: \", entero)\n",
        "\n",
        "  #v=int(xnn)\n",
        "  xo=xn\n",
        "  xn=entero"
      ]
    }
  ]
}