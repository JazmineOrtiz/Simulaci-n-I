{
  "nbformat": 4,
  "nbformat_minor": 0,
  "metadata": {
    "colab": {
      "provenance": [],
      "authorship_tag": "ABX9TyOH0a5CEg2pQYjjJXFcutD3",
      "include_colab_link": true
    },
    "kernelspec": {
      "name": "python3",
      "display_name": "Python 3"
    },
    "language_info": {
      "name": "python"
    }
  },
  "cells": [
    {
      "cell_type": "markdown",
      "metadata": {
        "id": "view-in-github",
        "colab_type": "text"
      },
      "source": [
        "<a href=\"https://colab.research.google.com/github/JazmineOrtiz/Simulaci-n-I/blob/main/Aceptaci%C3%B3ny_rechazo.ipynb\" target=\"_parent\"><img src=\"https://colab.research.google.com/assets/colab-badge.svg\" alt=\"Open In Colab\"/></a>"
      ]
    },
    {
      "cell_type": "code",
      "execution_count": 6,
      "metadata": {
        "colab": {
          "base_uri": "https://localhost:8080/",
          "height": 430
        },
        "id": "4QMSSawuItfC",
        "outputId": "00d6a1fc-588f-43bf-90d1-9f7b6385a9da"
      },
      "outputs": [
        {
          "output_type": "display_data",
          "data": {
            "text/plain": [
              "<Figure size 640x480 with 1 Axes>"
            ],
            "image/png": "[encoded data removed]"
          },
          "metadata": {}
        }
      ],
      "source": [
        "import random as rd\n",
        "import numpy as np\n",
        "import matplotlib.pyplot as plt\n",
        "\n",
        "n=10000\n",
        "Lista=[]\n",
        "\n",
        "for i in range(n):\n",
        "  y=rd.uniform(0,1)\n",
        "  U=rd.uniform(0,1)\n",
        "  if ((20*y)*(1-y)**3)/(135/64)>=U:\n",
        "    x=y\n",
        "    Lista.append(x)\n",
        "\n",
        "plt.hist(Lista,bins=500)\n",
        "plt.show()\n"
      ]
    }
  ]
}